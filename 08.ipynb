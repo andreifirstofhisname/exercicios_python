{
  "nbformat": 4,
  "nbformat_minor": 0,
  "metadata": {
    "colab": {
      "provenance": [],
      "authorship_tag": "ABX9TyOP6qBdW/TOQqtUs0w3MpH+"
    },
    "kernelspec": {
      "name": "python3",
      "display_name": "Python 3"
    },
    "language_info": {
      "name": "python"
    }
  },
  "cells": [
    {
      "cell_type": "markdown",
      "source": [
        "Faça um Programa que pergunte quanto você ganha por hora e o número de horas trabalhadas no mês. Calcule e mostre o total do seu salário no referido mês."
      ],
      "metadata": {
        "id": "5yjF8rigCI_E"
      }
    },
    {
      "cell_type": "code",
      "execution_count": 2,
      "metadata": {
        "colab": {
          "base_uri": "https://localhost:8080/"
        },
        "id": "sNIcF5XQB4CW",
        "outputId": "0fd5038c-7b99-4ca4-c0e4-96db16177031"
      },
      "outputs": [
        {
          "output_type": "stream",
          "name": "stdout",
          "text": [
            "Me diz quanto você ganha por hora trabalhada no seu emprego: 90\n",
            "Agora me diz quantas horas voê trabalhou esse mês: 22\n",
            "O valor do seu salário será: 1980.0\n"
          ]
        }
      ],
      "source": [
        "valor_hora = float(input('Me diz quanto você ganha por hora trabalhada no seu emprego: '))\n",
        "banco_horas = int(input('Agora me diz quantas horas voê trabalhou esse mês: '))\n",
        "salario = valor_hora * banco_horas\n",
        "print(f'O valor do seu salário será: {salario}')"
      ]
    }
  ]
}