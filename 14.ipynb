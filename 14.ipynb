{
  "nbformat": 4,
  "nbformat_minor": 0,
  "metadata": {
    "colab": {
      "provenance": [],
      "authorship_tag": "ABX9TyOe8JbBm/sEcwSuLVQWfIej"
    },
    "kernelspec": {
      "name": "python3",
      "display_name": "Python 3"
    },
    "language_info": {
      "name": "python"
    }
  },
  "cells": [
    {
      "cell_type": "markdown",
      "source": [
        "João Papo-de-Pescador, homem de bem, comprou um microcomputador para controlar o rendimento diário de seu trabalho.\n",
        "\n",
        "Toda vez que ele traz um peso de peixes maior que o estabelecido pelo regulamento de pesca do estado de São Paulo (50 quilos) deve pagar uma multa de R$ 4,00 por quilo excedente.\n",
        "\n",
        "João precisa que você faça um programa que leia a variável peso (peso de peixes) e calcule o excesso.\n",
        "\n",
        "Gravar na variável excesso a quantidade de quilos além do limite e na variável multa o valor da multa que João deverá pagar. Imprima os dados do programa com as mensagens adequadas."
      ],
      "metadata": {
        "id": "swYHqh3kNPOz"
      }
    },
    {
      "cell_type": "code",
      "execution_count": 4,
      "metadata": {
        "colab": {
          "base_uri": "https://localhost:8080/"
        },
        "id": "9gkqxrgnM-8X",
        "outputId": "6655a6b9-2eb7-4218-a440-4bd81cb4d754"
      },
      "outputs": [
        {
          "output_type": "stream",
          "name": "stdout",
          "text": [
            "Olá, seu João Papo-de-Pescador!\n",
            "Me diga quantos Kg de peixe o senhor pescou hoje: 54\n",
            "Seu João, o senhor pescou 4.0 Kgs a mais do que deveria, logo, deverá pagar R$ 16.0 de multa. Desconsidere se esse número for negativo!\n"
          ]
        }
      ],
      "source": [
        "print(\"Olá, seu João Papo-de-Pescador!\")\n",
        "peso_pesca = float(input(\"Me diga quantos Kg de peixe o senhor pescou hoje: \"))\n",
        "excesso = peso_pesca - 50\n",
        "multa = excesso * 4\n",
        "print(f\"Seu João, o senhor pescou {excesso} Kgs a mais do que deveria, logo, deverá pagar R$ {multa} de multa. Desconsidere se esse número for negativo!\")"
      ]
    }
  ]
}