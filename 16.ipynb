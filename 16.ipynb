{
  "nbformat": 4,
  "nbformat_minor": 0,
  "metadata": {
    "colab": {
      "provenance": [],
      "authorship_tag": "ABX9TyMC8C3ljEx/WHnRgoa0i6+7"
    },
    "kernelspec": {
      "name": "python3",
      "display_name": "Python 3"
    },
    "language_info": {
      "name": "python"
    }
  },
  "cells": [
    {
      "cell_type": "markdown",
      "source": [
        "Faça um programa para uma loja de tintas. O programa deverá pedir o tamanho em metros quadrados da área a ser pintada.\n",
        "\n",
        "Considere que a cobertura da tinta é de 1 litro para cada 3 metros quadrados e que a tinta é vendida em latas de 18 litros, que custam R$ 80,00.\n",
        "\n",
        "Informe ao usuário a quantidades de latas de tinta a serem compradas e o preço total."
      ],
      "metadata": {
        "id": "H4kz-mp4SiFK"
      }
    },
    {
      "cell_type": "code",
      "execution_count": 11,
      "metadata": {
        "colab": {
          "base_uri": "https://localhost:8080/"
        },
        "id": "AoVsL1rSShpY",
        "outputId": "be826941-bcc4-41c7-eec4-7279c232bdbc"
      },
      "outputs": [
        {
          "output_type": "stream",
          "name": "stdout",
          "text": [
            "Quantos metros quadrados para pintar? 100\n",
            "Para pintar uma parede de 100.0 m2, será necessário 33.333333333333336 L. \n",
            "Para isso, seriam necessários 2 latas. \n",
            "Sabendo que cada lata custa R$ 80,00, o orçamento seria de R$ 160.0\n"
          ]
        }
      ],
      "source": [
        "metros = float(input(\"Quantos metros quadrados para pintar? \"))\n",
        "litros = metros / 3\n",
        "latas = litros / 18\n",
        "latas_real = int(latas) + 1\n",
        "valor = float(latas_real) * 80\n",
        "print(f\"Para pintar uma parede de {metros} m2, será necessário {litros} L. \\nPara isso, seriam necessários {latas_real} latas. \\nSabendo que cada lata custa R$ 80,00, o orçamento seria de R$ {valor}\")"
      ]
    }
  ]
}