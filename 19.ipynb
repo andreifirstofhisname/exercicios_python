{
  "nbformat": 4,
  "nbformat_minor": 0,
  "metadata": {
    "colab": {
      "provenance": [],
      "authorship_tag": "ABX9TyMrNMOaV4eooVq589cOlhuY"
    },
    "kernelspec": {
      "name": "python3",
      "display_name": "Python 3"
    },
    "language_info": {
      "name": "python"
    }
  },
  "cells": [
    {
      "cell_type": "markdown",
      "source": [
        "Faça um Programa que peça dois números e imprima o maior deles."
      ],
      "metadata": {
        "id": "pD5pLaaDwJ7J"
      }
    },
    {
      "cell_type": "code",
      "execution_count": 2,
      "metadata": {
        "colab": {
          "base_uri": "https://localhost:8080/"
        },
        "id": "9gw69ugevwm2",
        "outputId": "ddfbe1f7-995f-45ea-c0ef-0634c95f7882"
      },
      "outputs": [
        {
          "output_type": "stream",
          "name": "stdout",
          "text": [
            "Me informe dois números e direi qual dos dois é maior, combinado?\n",
            "Me diga o primeiro número: 10\n",
            "Agora, me diga o segundo número: 15\n",
            "O segundo número é maior que o segundo número! D:\n"
          ]
        }
      ],
      "source": [
        "print(\"Me informe dois números e direi qual dos dois é maior, combinado?\")\n",
        "num1 = int(input(\"Me diga o primeiro número: \"))\n",
        "num2 = int(input(\"Agora, me diga o segundo número: \"))\n",
        "\n",
        "if num1 > num2:\n",
        "  print(\"O primeiro número é maior que o segundo número! :D\")\n",
        "else:\n",
        "  print(\"O segundo número é maior que o segundo número! D:\")"
      ]
    }
  ]
}