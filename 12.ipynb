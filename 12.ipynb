{
  "nbformat": 4,
  "nbformat_minor": 0,
  "metadata": {
    "colab": {
      "provenance": [],
      "authorship_tag": "ABX9TyNjYZw2BUjpdEEZ9+tYl0Sn"
    },
    "kernelspec": {
      "name": "python3",
      "display_name": "Python 3"
    },
    "language_info": {
      "name": "python"
    }
  },
  "cells": [
    {
      "cell_type": "markdown",
      "source": [
        "Tendo como dados de entrada a altura de uma pessoa, construa um algoritmo que calcule seu peso ideal, usando a seguinte fórmula: (72.7*altura) - 58"
      ],
      "metadata": {
        "id": "W94kZxbLKG9e"
      }
    },
    {
      "cell_type": "code",
      "execution_count": 2,
      "metadata": {
        "colab": {
          "base_uri": "https://localhost:8080/"
        },
        "id": "-pGoWdVyG-D2",
        "outputId": "3b36be5f-6103-42f6-fd07-e634acbce9ef"
      },
      "outputs": [
        {
          "output_type": "stream",
          "name": "stdout",
          "text": [
            "Vamos calcular seu peso ideal?\n",
            "Me diga sua altura em metros: 1.62\n",
            "Seu peso ideal é 59.774000000000015\n"
          ]
        }
      ],
      "source": [
        "print(\"Vamos calcular seu peso ideal?\")\n",
        "altura = float(input(\"Me diga sua altura em metros: \"))\n",
        "\n",
        "peso_ideal = (72.7 * altura) - 58\n",
        "print(f\"Seu peso ideal é {peso_ideal}\")"
      ]
    }
  ]
}