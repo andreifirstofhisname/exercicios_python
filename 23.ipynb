{
  "nbformat": 4,
  "nbformat_minor": 0,
  "metadata": {
    "colab": {
      "provenance": [],
      "authorship_tag": "ABX9TyPq8m1EzA/LqqUBBV/5NVpI"
    },
    "kernelspec": {
      "name": "python3",
      "display_name": "Python 3"
    },
    "language_info": {
      "name": "python"
    }
  },
  "cells": [
    {
      "cell_type": "markdown",
      "source": [
        "Faça um programa para a leitura de duas notas parciais de um aluno. O programa deve calcular a média alcançada por aluno e apresentar: A mensagem \"Aprovado\", se a média alcançada for maior ou igual a sete; A mensagem \"Reprovado\", se a média for menor do que sete; A mensagem \"Aprovado com Distinção\", se a média for igual a dez."
      ],
      "metadata": {
        "id": "UsrVVTeMDHLT"
      }
    },
    {
      "cell_type": "code",
      "execution_count": 4,
      "metadata": {
        "colab": {
          "base_uri": "https://localhost:8080/"
        },
        "id": "dSZc9Z_nDGZS",
        "outputId": "5c4f7747-3393-4f9f-f7ec-f338fdd66225"
      },
      "outputs": [
        {
          "output_type": "stream",
          "name": "stdout",
          "text": [
            "Vamos calcular as notas de um aluno!\n",
            "Qual foi a nota da primera prova do aluno? 10\n",
            "Qual foi a nota da segunda prova do aluno? 10\n",
            "Parabéns, o aluno passou!\n"
          ]
        }
      ],
      "source": [
        "print(\"Vamos calcular as notas de um aluno!\")\n",
        "nota1 = float(input(\"Qual foi a nota da primera prova do aluno? \"))\n",
        "nota2 = float(input(\"Qual foi a nota da segunda prova do aluno? \"))\n",
        "media = (nota1 + nota2)  / 2\n",
        "\n",
        "if media >= 7:\n",
        "  print(\"Parabéns, o aluno passou!\")\n",
        "elif media == 10:\n",
        "  print(\" Parabéns, ele passou com honras!\")\n",
        "else:\n",
        "  print(\"Eita, parece que ele foi reprovado D:\")"
      ]
    }
  ]
}