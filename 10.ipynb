{
  "nbformat": 4,
  "nbformat_minor": 0,
  "metadata": {
    "colab": {
      "provenance": [],
      "authorship_tag": "ABX9TyMvG/irMwAyqbe4siYD+Jx4"
    },
    "kernelspec": {
      "name": "python3",
      "display_name": "Python 3"
    },
    "language_info": {
      "name": "python"
    }
  },
  "cells": [
    {
      "cell_type": "markdown",
      "source": [
        "Faça um Programa que peça a temperatura em graus Celsius, transforme e mostre em graus Farenheit."
      ],
      "metadata": {
        "id": "6L6cphQPBgAR"
      }
    },
    {
      "cell_type": "code",
      "execution_count": 1,
      "metadata": {
        "colab": {
          "base_uri": "https://localhost:8080/"
        },
        "id": "27gtNaQZBS27",
        "outputId": "14c068e6-33cf-4374-8acf-5afe5aca3f91"
      },
      "outputs": [
        {
          "output_type": "stream",
          "name": "stdout",
          "text": [
            "Vamos converter uma temperatura de Celsius para Fahrenheit!\n",
            "Para começar, me diga um temperatura em Celsius: 27\n",
            "A temperatura em Fahrenheit seria: 80.6\n"
          ]
        }
      ],
      "source": [
        "print(\"Vamos converter uma temperatura de Celsius para Fahrenheit!\")\n",
        "celsius = float(input(\"Para começar, me diga um temperatura em Celsius: \"))\n",
        "fahrenheit = ((9 * celsius) / 5) + 32\n",
        "print(\"A temperatura em Fahrenheit seria:\", fahrenheit)"
      ]
    }
  ]
}