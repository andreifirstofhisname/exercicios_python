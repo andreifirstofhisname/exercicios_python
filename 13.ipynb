{
  "nbformat": 4,
  "nbformat_minor": 0,
  "metadata": {
    "colab": {
      "provenance": [],
      "authorship_tag": "ABX9TyOfK1AtwCTQwRCaDyiwycYh"
    },
    "kernelspec": {
      "name": "python3",
      "display_name": "Python 3"
    },
    "language_info": {
      "name": "python"
    }
  },
  "cells": [
    {
      "cell_type": "markdown",
      "source": [
        "Tendo como dado de entrada a altura (h) de uma pessoa, construa um algoritmo que calcule seu peso ideal, utilizando as seguintes fórmulas: Para homens: (72.7h) - 58 Para mulheres: (62.1h) - 44.7"
      ],
      "metadata": {
        "id": "NTswROISLbOP"
      }
    },
    {
      "cell_type": "code",
      "execution_count": 1,
      "metadata": {
        "colab": {
          "base_uri": "https://localhost:8080/"
        },
        "id": "gzvuBhGtLHLr",
        "outputId": "71b058b9-7a7f-47dd-c9bc-98c5d790d413"
      },
      "outputs": [
        {
          "output_type": "stream",
          "name": "stdout",
          "text": [
            "Vamos calcular seu peso ideal a partir da sua altura?\n",
            "Primeiro, me diga sua altura em metros: 1.62\n",
            "Se você for homem, seu peso ideal é: 59.774000000000015 \n",
            "Mas se você for mulher, seu peso ideal é 55.902\n"
          ]
        }
      ],
      "source": [
        "print(\"Vamos calcular seu peso ideal a partir da sua altura?\")\n",
        "altura = float(input(\"Primeiro, me diga sua altura em metros: \"))\n",
        "\n",
        "peso_ideal_homem = (72.7 * altura) - 58\n",
        "peso_ideal_mulher = (62.1 * altura) - 44.7\n",
        "\n",
        "print(f\"Se você for homem, seu peso ideal é: {peso_ideal_homem} \\nMas se você for mulher, seu peso ideal é {peso_ideal_mulher}\")"
      ]
    }
  ]
}