{
  "nbformat": 4,
  "nbformat_minor": 0,
  "metadata": {
    "colab": {
      "provenance": [],
      "authorship_tag": "ABX9TyME+KcJOeP3FUz3lpkeGqgB"
    },
    "kernelspec": {
      "name": "python3",
      "display_name": "Python 3"
    },
    "language_info": {
      "name": "python"
    }
  },
  "cells": [
    {
      "cell_type": "markdown",
      "source": [
        "Faça um Programa que verifique se uma letra digitada é \"F\" ou \"M\". Conforme a letra escrever: F - Feminino, M - Masculino, Sexo Inválido."
      ],
      "metadata": {
        "id": "3JQV8s5MzFMg"
      }
    },
    {
      "cell_type": "code",
      "execution_count": 4,
      "metadata": {
        "colab": {
          "base_uri": "https://localhost:8080/"
        },
        "id": "D8hE0qhTzDyv",
        "outputId": "7f77b987-9be6-424b-b0dc-ee0f0efa06ac"
      },
      "outputs": [
        {
          "output_type": "stream",
          "name": "stdout",
          "text": [
            "Sabendo que: \n",
            "F - Feminino \n",
            "M - Masculino\n",
            "Me informe seu sexo: F\n",
            "Você é uma baby girl *-*\n"
          ]
        }
      ],
      "source": [
        "print(\"Sabendo que: \\nF - Feminino \\nM - Masculino\")\n",
        "sexo = str(input(\"Me informe seu sexo: \"))\n",
        "\n",
        "if sexo == \"F\":\n",
        "  print(\"Você é uma baby girl *-*\")\n",
        "elif sexo == \"M\":\n",
        "  print(\"Você é um homem\")\n",
        "else:\n",
        "  print(\"Sexo inválido! :O\")"
      ]
    }
  ]
}