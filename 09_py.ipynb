{
  "nbformat": 4,
  "nbformat_minor": 0,
  "metadata": {
    "colab": {
      "provenance": [],
      "authorship_tag": "ABX9TyNpQHEeJ7GMqwgEjCVw01tf"
    },
    "kernelspec": {
      "name": "python3",
      "display_name": "Python 3"
    },
    "language_info": {
      "name": "python"
    }
  },
  "cells": [
    {
      "cell_type": "markdown",
      "source": [
        "Faça um Programa que peça a temperatura em graus Farenheit, transforme e mostre a temperatura em graus Celsius."
      ],
      "metadata": {
        "id": "MFGasNiPEjqE"
      }
    },
    {
      "cell_type": "code",
      "execution_count": 2,
      "metadata": {
        "colab": {
          "base_uri": "https://localhost:8080/"
        },
        "id": "ysvF58C7DJhZ",
        "outputId": "df9974f2-7a70-4c8a-c8ce-6ee3055dfd71"
      },
      "outputs": [
        {
          "output_type": "stream",
          "name": "stdout",
          "text": [
            "Diga uma temperatura em Fahrenheit e transformarei ela em Celcius: 75\n",
            "A temperatura em Celcius é 23.88888888888889\n"
          ]
        }
      ],
      "source": [
        "fahrenheit = float(input('Diga uma temperatura em Fahrenheit e transformarei ela em Celcius: '))\n",
        "celcius = 5 * ((fahrenheit - 32) / 9)\n",
        "\n",
        "print(f'A temperatura em Celcius é {celcius}')"
      ]
    }
  ]
}