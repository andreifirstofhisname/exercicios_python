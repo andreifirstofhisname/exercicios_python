{
  "nbformat": 4,
  "nbformat_minor": 0,
  "metadata": {
    "colab": {
      "provenance": [],
      "authorship_tag": "ABX9TyPO89FlQTC5rxXdE1U4SNCj"
    },
    "kernelspec": {
      "name": "python3",
      "display_name": "Python 3"
    },
    "language_info": {
      "name": "python"
    }
  },
  "cells": [
    {
      "cell_type": "markdown",
      "source": [
        "Faça um Programa que converta metros para centímetros."
      ],
      "metadata": {
        "id": "iXSESAAO7_9t"
      }
    },
    {
      "cell_type": "code",
      "execution_count": 2,
      "metadata": {
        "colab": {
          "base_uri": "https://localhost:8080/"
        },
        "id": "aTTXgy8v7ywx",
        "outputId": "07fb93e0-dea8-42ca-f427-b0d2eea35e70"
      },
      "outputs": [
        {
          "output_type": "stream",
          "name": "stdout",
          "text": [
            "Quantos metros você deseja converter?1.5\n",
            "1.5 metros equivale à 150.0 centímetros\n"
          ]
        }
      ],
      "source": [
        "metros = float(input('Quantos metros você deseja converter?'))\n",
        "centimetros = metros * 100\n",
        "print(f'{metros} metros equivale à {centimetros} centímetros')"
      ]
    }
  ]
}