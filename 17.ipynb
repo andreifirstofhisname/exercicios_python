{
  "nbformat": 4,
  "nbformat_minor": 0,
  "metadata": {
    "colab": {
      "provenance": [],
      "authorship_tag": "ABX9TyN+GCFfpuwkOUP1pA982WkV"
    },
    "kernelspec": {
      "name": "python3",
      "display_name": "Python 3"
    },
    "language_info": {
      "name": "python"
    }
  },
  "cells": [
    {
      "cell_type": "markdown",
      "source": [
        "Faça um Programa para uma loja de tintas.\n",
        "\n",
        "O programa deverá pedir o tamanho em metros quadrados da área a ser pintada.\n",
        "\n",
        "Considere que a cobertura da tinta é de 1 litro para cada 6 metros quadrados e que a tinta é vendida em latas de 18 litros, que custam 80 reais ou em galões de 3,6 litros, que custam 25 reais.\n",
        "\n",
        "Informe ao usuário as quantidades de tinta a serem compradas e os respectivos preços em 3 situações:\n",
        "\n",
        "Comprar apenas latas de 18 litros;\n",
        "Comprar apenas galões de 3,6 litros;\n",
        "Misturar latas e galões, de forma que o preço seja o menor.\n",
        "Acrescente 10% de folga e sempre arredonde os valores para cima, isto é, considere latas cheias."
      ],
      "metadata": {
        "id": "AkDm-FuLXANt"
      }
    },
    {
      "cell_type": "code",
      "execution_count": 16,
      "metadata": {
        "colab": {
          "base_uri": "https://localhost:8080/"
        },
        "id": "0mqclR7vW3L1",
        "outputId": "9aea299e-5e8d-4ea6-bb73-e88fd53eb864"
      },
      "outputs": [
        {
          "output_type": "stream",
          "name": "stdout",
          "text": [
            "Quantos metros quadrados serão pintados? 100\n",
            "Para pintar 100.0 m2 de parede, seriam necessárias 2 latas de 18 litros, o que resultaria em um valor de R$ 160.0;\n",
            "Para pintar 100.0 m2 de parede, seriam necessárias 6 galões de 3,6 litros, o que resultaria em um valor de R$ 150.0;\n",
            "Mas se for mais benéfico para você, você pode comprar 1 latas, e 1 galões, o que resultaria no valor de R$ 105.0!\n"
          ]
        }
      ],
      "source": [
        "metros = float(input(\"Quantos metros quadrados serão pintados? \"))\n",
        "litros = metros / 6\n",
        "litros_folga = litros + (litros / 10)\n",
        "\n",
        "# Valor apenas com latas\n",
        "latas = litros_folga / 18\n",
        "latas_inteiro = int(latas) + 1\n",
        "valor_latas = float(latas_inteiro) * 80\n",
        "print(f\"Para pintar {metros} m2 de parede, seriam necessárias {latas_inteiro} latas de 18 litros, o que resultaria em um valor de R$ {valor_latas};\")\n",
        "\n",
        "# Valor apenas com galões\n",
        "galoes = litros_folga / 3.6\n",
        "galoes_inteiro = int(galoes) + 1\n",
        "valor_galoes = float(galoes_inteiro) * 25\n",
        "print(f\"Para pintar {metros} m2 de parede, seriam necessárias {galoes_inteiro} galões de 3,6 litros, o que resultaria em um valor de R$ {valor_galoes};\")\n",
        "\n",
        "# Valor mix de latas com galões\n",
        "latas_mix = int(latas)\n",
        "galoes_mix = int(litros_folga % 18) + 1\n",
        "valor_mix = float((latas_mix * 80) + (galoes_mix * 25))\n",
        "print(f\"Mas se for mais benéfico para você, você pode comprar {latas_mix} latas, e {galoes_mix} galões, o que resultaria no valor de R$ {valor_mix}!\")"
      ]
    }
  ]
}