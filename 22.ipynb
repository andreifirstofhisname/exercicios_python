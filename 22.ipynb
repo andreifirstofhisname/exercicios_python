{
  "nbformat": 4,
  "nbformat_minor": 0,
  "metadata": {
    "colab": {
      "provenance": [],
      "authorship_tag": "ABX9TyNDeUw6rJ89cioNk76pOKIu"
    },
    "kernelspec": {
      "name": "python3",
      "display_name": "Python 3"
    },
    "language_info": {
      "name": "python"
    }
  },
  "cells": [
    {
      "cell_type": "markdown",
      "source": [
        "Faça um Programa que verifique se uma letra digitada é vogal ou consoante."
      ],
      "metadata": {
        "id": "s0Sv4R7f0iAL"
      }
    },
    {
      "cell_type": "code",
      "execution_count": 5,
      "metadata": {
        "colab": {
          "base_uri": "https://localhost:8080/"
        },
        "id": "aTXNDzmB0Vy2",
        "outputId": "36b2435c-4bc8-42da-a5d5-48a631f1cfc0"
      },
      "outputs": [
        {
          "output_type": "stream",
          "name": "stdout",
          "text": [
            "Me diga uma letra, e direi se ela é vogal ou consoante (ou um número), hehehe: a\n",
            "Essa letra é uma vogal :D\n"
          ]
        }
      ],
      "source": [
        "letra = str(input(\"Me diga uma letra, e direi se ela é vogal ou consoante (ou um número), hehehe: \").upper())\n",
        "\n",
        "if letra == \"A\" or letra == \"E\" or letra == \"I\" or letra == \"O\" or letra == \"U\":\n",
        "  print(\"Essa letra é uma vogal :D\")\n",
        "else:\n",
        "  print(\"Essa letra é uma consoante (ou um número kkk) D:\")"
      ]
    }
  ]
}