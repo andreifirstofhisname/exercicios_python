{
  "nbformat": 4,
  "nbformat_minor": 0,
  "metadata": {
    "colab": {
      "provenance": [],
      "authorship_tag": "ABX9TyOOp0rLaWx0LryaKUqQcR10"
    },
    "kernelspec": {
      "name": "python3",
      "display_name": "Python 3"
    },
    "language_info": {
      "name": "python"
    }
  },
  "cells": [
    {
      "cell_type": "markdown",
      "source": [
        "Faça um Programa que calcule a área de um quadrado, em seguida mostre o dobro desta área para o usuário."
      ],
      "metadata": {
        "id": "vLWAF2L4AwhG"
      }
    },
    {
      "cell_type": "code",
      "execution_count": 4,
      "metadata": {
        "colab": {
          "base_uri": "https://localhost:8080/"
        },
        "id": "vCcgwJdG_YIY",
        "outputId": "bfda853d-739f-4147-defe-089cecf5d22a"
      },
      "outputs": [
        {
          "output_type": "stream",
          "name": "stdout",
          "text": [
            "Qual a medida do lado do quadrado: 6\n",
            "A área do quadrado é 36.0 \n",
            "Enquanto o dobro da área é 72.0\n"
          ]
        }
      ],
      "source": [
        "lado = float(input('Qual a medida do lado do quadrado: '))\n",
        "area = lado ** 2\n",
        "area_dobro = 2 * area\n",
        "\n",
        "print(f'A área do quadrado é {area} \\nEnquanto o dobro da área é {area_dobro}')"
      ]
    }
  ]
}