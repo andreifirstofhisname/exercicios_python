{
  "nbformat": 4,
  "nbformat_minor": 0,
  "metadata": {
    "colab": {
      "provenance": [],
      "authorship_tag": "ABX9TyNiywFXyvsw31YrPrVoLkmj"
    },
    "kernelspec": {
      "name": "python3",
      "display_name": "Python 3"
    },
    "language_info": {
      "name": "python"
    }
  },
  "cells": [
    {
      "cell_type": "markdown",
      "source": [
        "Faça um Programa que peça um número e então mostre a mensagem\n",
        "O número informado foi [número]."
      ],
      "metadata": {
        "id": "qTJRKoEG0vB5"
      }
    },
    {
      "cell_type": "code",
      "execution_count": 2,
      "metadata": {
        "colab": {
          "base_uri": "https://localhost:8080/"
        },
        "id": "P_b0ks390Nhg",
        "outputId": "aab6fb3f-c8a3-4e1d-8250-8d42fb0d5677"
      },
      "outputs": [
        {
          "output_type": "stream",
          "name": "stdout",
          "text": [
            "Digite um número: 3\n",
            "O número digitado foi: 3\n"
          ]
        }
      ],
      "source": [
        "num = input('Digite um número: ')\n",
        "print('O número digitado foi:', num)"
      ]
    }
  ]
}