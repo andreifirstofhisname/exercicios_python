{
  "nbformat": 4,
  "nbformat_minor": 0,
  "metadata": {
    "colab": {
      "provenance": [],
      "authorship_tag": "ABX9TyN02GZPKJNSWt3s+iu98E10"
    },
    "kernelspec": {
      "name": "python3",
      "display_name": "Python 3"
    },
    "language_info": {
      "name": "python"
    }
  },
  "cells": [
    {
      "cell_type": "markdown",
      "source": [
        "Faça um Programa que pergunte quanto você ganha por hora e o número de horas trabalhadas no mês.\n",
        "\n",
        "Calcule e mostre o total do seu salário no referido mês, sabendo-se que são descontados 11% para o Imposto de Renda, 8% para o INSS e 5% para o sindicato, faça um programa que nos dê: salário bruto. quanto pagou ao INSS. quanto pagou ao sindicato. o salário líquido. calcule os descontos e o salário líquido, conforme a tabela abaixo:"
      ],
      "metadata": {
        "id": "Woj3nNfvPLUB"
      }
    },
    {
      "cell_type": "code",
      "execution_count": 3,
      "metadata": {
        "colab": {
          "base_uri": "https://localhost:8080/"
        },
        "id": "l4EvdKUTPCPv",
        "outputId": "0cf90ff3-5847-4d2d-d295-916c915a4385"
      },
      "outputs": [
        {
          "output_type": "stream",
          "name": "stdout",
          "text": [
            "Vamos calcular o seu salário líquido e com o valor dos descontos?\n",
            "Me diga o valor da sua hora, por gentileza: 405.90\n",
            "Me diga quantas horas você trabalhou esse mês: 22\n",
            "Seu salário bruto é de R$ 8929.8\n",
            "Seu desconto do IR é de R$ 982.2779999999999\n",
            "Seu desconto do INSS é de R$ 714.3839999999999\n",
            "Seu desconto do Sindicato é de R$ 446.49\n",
            "Seu salário líquido é de R$ 6786.647999999999\n"
          ]
        }
      ],
      "source": [
        "print(\"Vamos calcular o seu salário líquido e com o valor dos descontos?\")\n",
        "valor_hora = float(input(\"Me diga o valor da sua hora, por gentileza: \"))\n",
        "horas = int(input(\"Me diga quantas horas você trabalhou esse mês: \"))\n",
        "salario_bruto = valor_hora * horas\n",
        "desconto_irenda = (salario_bruto * 11) / 100\n",
        "desconto_inss = (salario_bruto * 8) / 100\n",
        "desconto_sindicato = (salario_bruto * 5) / 100\n",
        "salario_liquido = salario_bruto - desconto_irenda - desconto_inss - desconto_sindicato\n",
        "print(f\"Seu salário bruto é de R$ {salario_bruto}\")\n",
        "print(f\"Seu desconto do IR é de R$ {desconto_irenda}\")\n",
        "print(f\"Seu desconto do INSS é de R$ {desconto_inss}\")\n",
        "print(f\"Seu desconto do Sindicato é de R$ {desconto_sindicato}\")\n",
        "print(f\"Seu salário líquido é de R$ {salario_liquido}\")\n"
      ]
    }
  ]
}