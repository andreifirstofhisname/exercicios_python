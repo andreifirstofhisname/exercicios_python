{
  "nbformat": 4,
  "nbformat_minor": 0,
  "metadata": {
    "colab": {
      "provenance": [],
      "authorship_tag": "ABX9TyOeHpOtbaTKfum2DUK37U4l"
    },
    "kernelspec": {
      "name": "python3",
      "display_name": "Python 3"
    },
    "language_info": {
      "name": "python"
    }
  },
  "cells": [
    {
      "cell_type": "markdown",
      "source": [
        "Faça um Programa que peça as 4 notas bimestrais e mostre a média."
      ],
      "metadata": {
        "id": "IIMngj8R3lYC"
      }
    },
    {
      "cell_type": "code",
      "execution_count": 1,
      "metadata": {
        "colab": {
          "base_uri": "https://localhost:8080/"
        },
        "id": "YHEx0f2C3i8W",
        "outputId": "0d80ad00-5fe7-4243-ea55-fdd109caeab7"
      },
      "outputs": [
        {
          "output_type": "stream",
          "name": "stdout",
          "text": [
            "Digite a nota do primeiro bimestre: 7.5\n",
            "Digite a nota do segundo bimestre: 8.5\n",
            "Digite a nota do terceiro bimestre: 7\n",
            "Digite a nota do quarto bimestre: 6\n",
            "A média desse aluno foi: 7.25\n"
          ]
        }
      ],
      "source": [
        "bi1 = float(input(\"Digite a nota do primeiro bimestre: \"))\n",
        "bi2 = float(input(\"Digite a nota do segundo bimestre: \"))\n",
        "bi3 = float(input(\"Digite a nota do terceiro bimestre: \"))\n",
        "bi4 = float(input(\"Digite a nota do quarto bimestre: \"))\n",
        "media = (bi1 + bi2 + bi3 + bi4)/4\n",
        "\n",
        "print('A média desse aluno foi:', media)"
      ]
    }
  ]
}