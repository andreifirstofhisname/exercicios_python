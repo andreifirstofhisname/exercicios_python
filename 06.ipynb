{
  "nbformat": 4,
  "nbformat_minor": 0,
  "metadata": {
    "colab": {
      "provenance": [],
      "authorship_tag": "ABX9TyPnqMpK4bGqXKT4dCMCaiFi"
    },
    "kernelspec": {
      "name": "python3",
      "display_name": "Python 3"
    },
    "language_info": {
      "name": "python"
    }
  },
  "cells": [
    {
      "cell_type": "markdown",
      "source": [
        "Faça um Programa que peça o raio de um círculo, calcule e mostre sua área."
      ],
      "metadata": {
        "id": "hi0S82Nq-XBF"
      }
    },
    {
      "cell_type": "code",
      "execution_count": null,
      "metadata": {
        "colab": {
          "base_uri": "https://localhost:8080/"
        },
        "id": "zEWj_h4l-EfP",
        "outputId": "40ef79d4-e4fd-4744-b2e8-4eebc4e28d35"
      },
      "outputs": [
        {
          "output_type": "stream",
          "name": "stdout",
          "text": [
            "Me diga um raio para que possamos calcular a área: 2\n",
            "Um círculo de raio 2.0 tem área de 12.56\n"
          ]
        }
      ],
      "source": [
        "raio = float(input('Me diga um raio para que possamos calcular a área: '))\n",
        "area = 3.14 * (raio**2)\n",
        "\n",
        "print(f'Um círculo de raio {raio} tem área de {area}')"
      ]
    }
  ]
}