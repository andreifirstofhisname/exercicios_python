{
  "nbformat": 4,
  "nbformat_minor": 0,
  "metadata": {
    "colab": {
      "provenance": [],
      "authorship_tag": "ABX9TyNO6CTl64xhMzw4wYT4tK7u"
    },
    "kernelspec": {
      "name": "python3",
      "display_name": "Python 3"
    },
    "language_info": {
      "name": "python"
    }
  },
  "cells": [
    {
      "cell_type": "markdown",
      "source": [
        "Faça um Programa que peça dois números e imprima a soma."
      ],
      "metadata": {
        "id": "2XrWg2Ho1ltv"
      }
    },
    {
      "cell_type": "code",
      "execution_count": null,
      "metadata": {
        "colab": {
          "base_uri": "https://localhost:8080/"
        },
        "id": "RIckQWql1i5w",
        "outputId": "5f108964-188a-4bc2-8a8b-6d35030278b7"
      },
      "outputs": [
        {
          "output_type": "stream",
          "name": "stdout",
          "text": [
            "Vamos somar dois números?\n",
            "Digite o primeiro número: 5\n",
            "Digite o segundo número: 6\n",
            "A soma dos dois números é: 11\n"
          ]
        }
      ],
      "source": [
        "print('Vamos somar dois números?')\n",
        "num1 = int(input('Digite o primeiro número: '))\n",
        "num2 = int(input('Digite o segundo número: '))\n",
        "print('A soma dos dois números é:', num1 + num2)"
      ]
    }
  ]
}