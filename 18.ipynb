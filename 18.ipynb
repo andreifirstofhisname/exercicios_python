{
  "nbformat": 4,
  "nbformat_minor": 0,
  "metadata": {
    "colab": {
      "provenance": [],
      "authorship_tag": "ABX9TyP+M/llzIg4+Q7gvmx5MB/l"
    },
    "kernelspec": {
      "name": "python3",
      "display_name": "Python 3"
    },
    "language_info": {
      "name": "python"
    }
  },
  "cells": [
    {
      "cell_type": "markdown",
      "source": [
        "Faça um programa que peça o tamanho de um arquivo para download (em MB) e a velocidade de um link de Internet (em Mbps), calcule e informe o tempo aproximado de download do arquivo usando este link (em minutos)."
      ],
      "metadata": {
        "id": "-DJdRC00ylPA"
      }
    },
    {
      "cell_type": "code",
      "execution_count": 4,
      "metadata": {
        "colab": {
          "base_uri": "https://localhost:8080/"
        },
        "id": "CTxrjiubyiy9",
        "outputId": "3e15e9ea-faed-4398-b85e-cbdf95083bc1"
      },
      "outputs": [
        {
          "output_type": "stream",
          "name": "stdout",
          "text": [
            "Vamos calcular o tempo de download de um arquivo?\n",
            "Qual o tamanho do arquivo que será baixado? 1024\n",
            "Qual a velocidade da sua internet? 256\n",
            "Seu download será realizado em 0.06666666666666667 minutos\n"
          ]
        }
      ],
      "source": [
        "print(\"Vamos calcular o tempo de download de um arquivo?\")\n",
        "tamanho = int(input(\"Qual o tamanho do arquivo que será baixado? \"))\n",
        "velocidade = int(input(\"Qual a velocidade da sua internet? \"))\n",
        "tempo_segundos = tamanho / velocidade\n",
        "tempo_minutos = tempo_segundos / 60\n",
        "\n",
        "print(f\"Seu download será realizado em {tempo_minutos} minutos\")"
      ]
    }
  ]
}