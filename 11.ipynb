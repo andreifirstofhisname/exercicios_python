{
  "nbformat": 4,
  "nbformat_minor": 0,
  "metadata": {
    "colab": {
      "provenance": [],
      "authorship_tag": "ABX9TyNro0WOQV3YDpUUd7TQK4bm"
    },
    "kernelspec": {
      "name": "python3",
      "display_name": "Python 3"
    },
    "language_info": {
      "name": "python"
    }
  },
  "cells": [
    {
      "cell_type": "markdown",
      "source": [
        "Faça um Programa que peça 2 números inteiros e um número real. Calcule e mostre: O produto do dobro do primeiro com metade do segundo. A soma do triplo do primeiro com o terceiro. O terceiro elevado ao cubo."
      ],
      "metadata": {
        "id": "sYOOP-ryFvOJ"
      }
    },
    {
      "cell_type": "code",
      "execution_count": 2,
      "metadata": {
        "colab": {
          "base_uri": "https://localhost:8080/"
        },
        "id": "4vMGtgvzC3Yv",
        "outputId": "64b83312-1f2d-4e2f-98db-99a6029443ec"
      },
      "outputs": [
        {
          "output_type": "stream",
          "name": "stdout",
          "text": [
            "Me diga 2 números inteiros e 1 um real\n",
            "Me diga o primeiro número inteiro: 15\n",
            "Me diga o segundo número inteiro: 10\n",
            "Me diga o número real: 12\n",
            "O dobro do primeiro número vezes a metade do segundo número é igual à: 150.0\n",
            "O triplo do primeiro número mais o terceiro número 57.0\n",
            "O terceiro número elevado ao cubo é 1728.0\n"
          ]
        }
      ],
      "source": [
        "print(\"Me diga 2 números inteiros e 1 um real\")\n",
        "num1 = int(input(\"Me diga o primeiro número inteiro: \"))\n",
        "num2 = int(input(\"Me diga o segundo número inteiro: \"))\n",
        "num3 = float(input(\"Me diga o número real: \"))\n",
        "\n",
        "# Operação 1\n",
        "op1 = (2 * num1) * (num2 / 2)\n",
        "print(\"O dobro do primeiro número vezes a metade do segundo número é igual à:\", op1)\n",
        "\n",
        "# Operação 2\n",
        "op2 = (3 * num1) + num3\n",
        "print(\"O triplo do primeiro número mais o terceiro número\", op2)\n",
        "\n",
        "# Operação 3\n",
        "op3 = num3 ** 3\n",
        "print(\"O terceiro número elevado ao cubo é\", op3)"
      ]
    }
  ]
}