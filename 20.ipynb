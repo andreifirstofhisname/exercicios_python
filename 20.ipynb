{
  "nbformat": 4,
  "nbformat_minor": 0,
  "metadata": {
    "colab": {
      "provenance": [],
      "authorship_tag": "ABX9TyNJ69nyadFcVKTX2vhNx97D"
    },
    "kernelspec": {
      "name": "python3",
      "display_name": "Python 3"
    },
    "language_info": {
      "name": "python"
    }
  },
  "cells": [
    {
      "cell_type": "markdown",
      "source": [
        "Faça um Programa que peça um valor e mostre na tela se o valor é positivo ou negativo."
      ],
      "metadata": {
        "id": "kP96bR0yx9Ew"
      }
    },
    {
      "cell_type": "code",
      "execution_count": 3,
      "metadata": {
        "colab": {
          "base_uri": "https://localhost:8080/"
        },
        "id": "PAHg1RAHx7_h",
        "outputId": "b324cdb1-c99f-40bd-ed2f-e1ce9cef0a19"
      },
      "outputs": [
        {
          "output_type": "stream",
          "name": "stdout",
          "text": [
            "Me diz um número e direi se ele é positivo ou negativo, hihihi\n",
            "Digite seu número: -1\n",
            "Este número é negativo...\n"
          ]
        }
      ],
      "source": [
        "print(\"Me diz um número e direi se ele é positivo ou negativo, hihihi\")\n",
        "num = int(input(\"Digite seu número: \"))\n",
        "\n",
        "if num > 0:\n",
        "  print(\"Este número é positivo!\")\n",
        "else:\n",
        "  print(\"Este número é negativo...\")"
      ]
    }
  ]
}